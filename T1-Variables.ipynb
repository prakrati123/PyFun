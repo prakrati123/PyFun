{
 "cells": [
  {
   "cell_type": "markdown",
   "metadata": {},
   "source": [
    "## What is a variable?"
   ]
  },
  {
   "cell_type": "markdown",
   "metadata": {},
   "source": [
    "Variables are reserved memory locations to store values."
   ]
  },
  {
   "cell_type": "code",
   "execution_count": null,
   "metadata": {},
   "outputs": [],
   "source": [
    "a = 5\n",
    "name = \"Shrirang\""
   ]
  },
  {
   "cell_type": "markdown",
   "metadata": {},
   "source": [
    "2 memory locations are reserved and have values \"5\" and \"Shrirang\" respectively. They are named \"a\" and \"name\"."
   ]
  },
  {
   "cell_type": "markdown",
   "metadata": {},
   "source": [
    "1. Edit above code to print the values of \"a\" and \"name\" variables."
   ]
  },
  {
   "cell_type": "markdown",
   "metadata": {},
   "source": [
    "## Integers"
   ]
  },
  {
   "cell_type": "markdown",
   "metadata": {},
   "source": [
    "Integers are numbers without decimal points. "
   ]
  },
  {
   "cell_type": "code",
   "execution_count": null,
   "metadata": {},
   "outputs": [],
   "source": [
    "x = 3\n",
    "print(x)\n",
    "type(x)"
   ]
  },
  {
   "cell_type": "markdown",
   "metadata": {},
   "source": [
    "The variable x is an integer. The type() function tells the type of the variable.\n",
    "Based on the data type of the variable, memory is allocated. "
   ]
  },
  {
   "cell_type": "markdown",
   "metadata": {},
   "source": [
    "You can perform all the basic mathematical operations on the integer. If you want only the integer part on dividing, use the floor operator(//). If you want to calculate the remainder, use the modulo operator(%). If you want to calculate the power of numbers, use the exponential operator(**)."
   ]
  },
  {
   "cell_type": "markdown",
   "metadata": {},
   "source": [
    "2. Perform the following operations on the variable x and then print the result after every operation\n",
    "i) Add 2 to it\n",
    "ii) Subtract 4 from it\n",
    "iii) Multiply 8\n",
    "iv) Divide it by 3\n",
    "v) Find only the integer part on dividing by 3 in iv)\n",
    "vi) Find only the remainder part on dividing by 3 in iv)\n",
    "vii) Raise x to the power of 3 and print"
   ]
  },
  {
   "cell_type": "code",
   "execution_count": 4,
   "metadata": {},
   "outputs": [
    {
     "name": "stdout",
     "output_type": "stream",
     "text": [
      "5\n"
     ]
    },
    {
     "data": {
      "text/plain": [
       "int"
      ]
     },
     "execution_count": 4,
     "metadata": {},
     "output_type": "execute_result"
    }
   ],
   "source": [
    "x = 3\n",
    "x = x + 2\n",
    "#Your code goes here\n",
    "\n",
    "print(x)\n",
    "type(x)"
   ]
  },
  {
   "cell_type": "markdown",
   "metadata": {},
   "source": [
    "## Float"
   ]
  },
  {
   "cell_type": "markdown",
   "metadata": {},
   "source": [
    "The answer to 2 iv) that you get is in decimals. If you check the type of it, it is float. Numbers with a decimal point are called floating point numbers."
   ]
  },
  {
   "cell_type": "markdown",
   "metadata": {},
   "source": [
    "3. For the following code, perform the following operations:\n",
    "i) Quotient of 17 divided by 3\n",
    "ii) Remainder of 17 divided by 3\n",
    "iii) 2 to the power of 10\n",
    "iv) cube root of 8"
   ]
  },
  {
   "cell_type": "code",
   "execution_count": null,
   "metadata": {},
   "outputs": [],
   "source": [
    "num = 17\n",
    "div = 3\n",
    "ans = #Your code goes here\n",
    "print(ans)"
   ]
  },
  {
   "cell_type": "markdown",
   "metadata": {},
   "source": [
    "4. Create a code snippet to find roots of quadratic equation. Use discriminant."
   ]
  },
  {
   "cell_type": "code",
   "execution_count": null,
   "metadata": {},
   "outputs": [],
   "source": [
    "a = 1\n",
    "b = 2\n",
    "c = 1\n",
    "D = (b**2 - 4*a*c)**0.5\n",
    "#Your code goes here"
   ]
  },
  {
   "cell_type": "markdown",
   "metadata": {},
   "source": [
    "5. Predict the answer to -3//2 and then run it to check whether your prediction was correct."
   ]
  },
  {
   "cell_type": "raw",
   "metadata": {},
   "source": [
    "To convert floating point number to integer or vice versa, there are 2 functions: int() and float().\n",
    "5. In the following code, first find the area of the circle. Then convert both the radius and pi to int and then find the area. Calculate the error in percentage."
   ]
  },
  {
   "cell_type": "code",
   "execution_count": null,
   "metadata": {},
   "outputs": [],
   "source": [
    "diameter = 12\n",
    "pi = 3.141\n",
    "#Your code goes here"
   ]
  },
  {
   "cell_type": "markdown",
   "metadata": {},
   "source": [
    "## Fractions"
   ]
  },
  {
   "cell_type": "markdown",
   "metadata": {},
   "source": [
    "Python can also handle fractions but we will need to use Python's fractions module.\n",
    "Think of module as a program written by someone else that you can use in your own programs.\n",
    "Before we can use it, we need to import it, which is a way of telling Python that we want to use a class from this module.\n",
    "Fraction is the class in the fractions module which will allow us to enter fractions."
   ]
  },
  {
   "cell_type": "code",
   "execution_count": null,
   "metadata": {},
   "outputs": [],
   "source": [
    "from fractions import Fraction\n",
    "f = Fraction(3,4)\n",
    "print(f)"
   ]
  },
  {
   "cell_type": "markdown",
   "metadata": {},
   "source": [
    "The basic mathematical operations, including the comparison operations, are all valid for fractions. You can also combine a fraction, an integer, and a floating point number in a single expression."
   ]
  },
  {
   "cell_type": "code",
   "execution_count": null,
   "metadata": {},
   "outputs": [],
   "source": [
    "from fractions import Fraction\n",
    "x = Fraction(5,6) + 5 + 2.8\n",
    "print(x)\n",
    "#Find the type of x \n",
    "y = Fraction(3,8) + 2 + Fraction(9,2)\n",
    "print(y)\n",
    "#Find the type of y"
   ]
  },
  {
   "cell_type": "markdown",
   "metadata": {},
   "source": [
    "As you must have observed above, if the expression contains a floating point number, the final result is a floating point number but if the expression has only Fraction and integer, the final result is a fraction even if denominator is 1. Don't believe, try it for yourself!"
   ]
  },
  {
   "cell_type": "code",
   "execution_count": null,
   "metadata": {},
   "outputs": [],
   "source": [
    "from fractions import Fraction\n",
    "x = Fraction(1,6) + 5 + Fraction(5,6)\n",
    "print(x)\n",
    "#Find the type of x"
   ]
  },
  {
   "cell_type": "markdown",
   "metadata": {},
   "source": [
    "In order to convert an integer or floating point number to fraction use the Fraction() class function.\n",
    "6. Edit the following code to convert the variables to fractions and print them"
   ]
  },
  {
   "cell_type": "code",
   "execution_count": null,
   "metadata": {},
   "outputs": [],
   "source": [
    "x = 1.3\n",
    "y = 0.25\n",
    "z = 8\n",
    "#Your code goes here"
   ]
  },
  {
   "cell_type": "markdown",
   "metadata": {},
   "source": [
    "## Complex"
   ]
  },
  {
   "cell_type": "markdown",
   "metadata": {},
   "source": [
    "The numbers we saw till now were real numbers. Python also supports complex numbers with the imaginary part identified by the letter j or J."
   ]
  },
  {
   "cell_type": "code",
   "execution_count": null,
   "metadata": {},
   "outputs": [],
   "source": [
    "a = 2 + 5j\n",
    "print(a)\n",
    "type(a)"
   ]
  },
  {
   "cell_type": "markdown",
   "metadata": {},
   "source": [
    "You can also define a complex number using complex() function."
   ]
  },
  {
   "cell_type": "code",
   "execution_count": null,
   "metadata": {},
   "outputs": [],
   "source": [
    "b = complex(2,5)\n",
    "#Write code to print its type and print value of b"
   ]
  },
  {
   "cell_type": "markdown",
   "metadata": {},
   "source": [
    "You can perform basic mathematical operations on complex numbers like addition, subtraction, multiplication and division. Modulo and floor operators are not valid for complex numbers.\n",
    "7. Edit the following code to do the following operations:\n",
    "i) Add 2 complex numbers 2+4i and 5+2i\n",
    "ii) Subtract the result of part i) from 9+8i\n",
    "iii) Multiply the numbers in part i)\n",
    "iv) Divide the result of part iii) by result of part ii)"
   ]
  },
  {
   "cell_type": "code",
   "execution_count": null,
   "metadata": {},
   "outputs": [],
   "source": [
    "a = 2 + 4j\n",
    "b = complex(5,2)\n",
    "#Your code goes here\n"
   ]
  },
  {
   "cell_type": "markdown",
   "metadata": {},
   "source": [
    "There are 2 attributes assosciated with a complex variable. Google and find how to print only the real and imaginary parts of a complex variable.\n",
    "8. Print the real and imaginary parts of the following complex variable"
   ]
  },
  {
   "cell_type": "code",
   "execution_count": null,
   "metadata": {},
   "outputs": [],
   "source": [
    "a = 4 + 2j\n",
    "#Your code goes here"
   ]
  },
  {
   "cell_type": "markdown",
   "metadata": {},
   "source": [
    "Other operations that can be done on complex numbers in Python are as follows:\n",
    "1. Conjugate: The conjugate of a complex number has the same real part but an imaginary part with an equal magnitude and an opposite sign. Use the conjugate() function to do it."
   ]
  },
  {
   "cell_type": "markdown",
   "metadata": {},
   "source": [
    "The magnitude of a complex number can be calculated with the following formula, where x and y are the real\n",
    "and imaginary parts of the number, respectively: √x² + y²\n",
    "9. Find the magnitude of the following complex number and print it "
   ]
  },
  {
   "cell_type": "code",
   "execution_count": null,
   "metadata": {},
   "outputs": [],
   "source": [
    "a = 4 + 5j\n",
    "#Your code goes here"
   ]
  },
  {
   "cell_type": "markdown",
   "metadata": {},
   "source": [
    "Another easier method to find the magnitude of a complex number is to use the abs() function.\n",
    "The abs() function returns the absolute value when called with a real number as its argument. For example, abs(5) and abs(-5) both return 5. However, for complex numbers, it returns the magnitude. \n",
    "10. Edit the code above and find the magnitude using abs() function and check if its the same as calculated using the formula."
   ]
  },
  {
   "cell_type": "markdown",
   "metadata": {},
   "source": [
    "## String"
   ]
  },
  {
   "cell_type": "markdown",
   "metadata": {},
   "source": [
    "String can be defined as a sequence of characters. To define a string, you can use either single or double quotes."
   ]
  },
  {
   "cell_type": "code",
   "execution_count": null,
   "metadata": {},
   "outputs": [],
   "source": [
    "name1 = \"Shrirang\"\n",
    "name2 = 'Shrirang'"
   ]
  },
  {
   "cell_type": "markdown",
   "metadata": {},
   "source": [
    "Both name1 and name2 are valid strings. \n",
    "11. Change above code to store your name and print Hi, your name."
   ]
  },
  {
   "cell_type": "code",
   "execution_count": null,
   "metadata": {},
   "outputs": [],
   "source": [
    "mystring = \"This is not my first string\"\n",
    "print(mystring)"
   ]
  },
  {
   "cell_type": "markdown",
   "metadata": {},
   "source": [
    "You can access each individual character of a string too using index numbers.\n",
    "12. Print the last character of mystring."
   ]
  },
  {
   "cell_type": "code",
   "execution_count": null,
   "metadata": {},
   "outputs": [],
   "source": [
    "print(mystring[0])\n",
    "#Your code goes here"
   ]
  },
  {
   "cell_type": "markdown",
   "metadata": {},
   "source": [
    "Another trick to access the last element of the string is to use negative index.\n",
    "13. Print the first \"s\" encountered from last."
   ]
  },
  {
   "cell_type": "code",
   "execution_count": null,
   "metadata": {},
   "outputs": [],
   "source": [
    "print(mystring[-1])\n",
    "#Your code goes here"
   ]
  },
  {
   "cell_type": "code",
   "execution_count": 5,
   "metadata": {},
   "outputs": [
    {
     "name": "stdout",
     "output_type": "stream",
     "text": [
      "PythonPythonPythonPython\n"
     ]
    }
   ],
   "source": [
    "#Guess the output of the following code\n",
    "name = \"Python\"\n",
    "print(name * 4)\n"
   ]
  },
  {
   "cell_type": "markdown",
   "metadata": {},
   "source": [
    "There are three operations (+, *, [ ]) that work with all sequences (including strings) and a unique operation, %, that can be performed only with strings.\n",
    "+ : Is the concatenation operator\n",
    "* : between strings and numbers (number * string or string * number) creates a new string that is a number of repetitions of the input string.\n",
    "[ ] : You already saw the index operator. It can also be used to slice the string by specifying start and end (string[start:end])\n",
    "14. Complete the following code to accomplish the specified tasks:\n",
    "i) Print a string made of the first 2 and the last 2 chars from string \"a\".\n",
    "ii) Get and print a single string from two given strings(a and b), separated by a space and swap the first two characters of each string. Example: Sample String : 'abc', 'xyz'  Expected Result : 'xyc abz'\n",
    "iii) Use the string replication operator to print \"Help\" 4 times "
   ]
  },
  {
   "cell_type": "code",
   "execution_count": null,
   "metadata": {},
   "outputs": [],
   "source": [
    "a = \"Hello\"\n",
    "b = \"Bye\"\n",
    "c = \"Help\"\n",
    "#Your code goes here"
   ]
  },
  {
   "cell_type": "code",
   "execution_count": null,
   "metadata": {},
   "outputs": [],
   "source": [
    "#15. Predict the output of the following code:\n",
    "a = \"Shrirang\"\n",
    "b = \"Karandikar\"\n",
    "print(a * b)\n"
   ]
  },
  {
   "cell_type": "code",
   "execution_count": null,
   "metadata": {},
   "outputs": [],
   "source": [
    "#16. Predict the output of the following code:\n",
    "a = \"Python\"\n",
    "print(a * 5.0)"
   ]
  },
  {
   "cell_type": "markdown",
   "metadata": {},
   "source": [
    "The standard comparisons (<, <=, >, >=, ==, !=) apply to strings. These comparisons use the standard character-by-character comparison rules for ASCII or Unicode.\n",
    "\n",
    "There are two additional comparisons: in and not in . These check to see if a single character string occurs in a longer string. The in operator returns a True when the character is found, False if the character is not found. The not in operator returns True if the character is not found.\n",
    "17. Find whether string a is found in string b. Print \"Yay! I am found\" - String a with the quotes if its found. "
   ]
  },
  {
   "cell_type": "code",
   "execution_count": null,
   "metadata": {},
   "outputs": [],
   "source": [
    "a = \"the\"\n",
    "b = \"cathedral\"\n",
    "#Your code goes here"
   ]
  },
  {
   "cell_type": "markdown",
   "metadata": {},
   "source": []
  },
  {
   "cell_type": "markdown",
   "metadata": {},
   "source": [
    "There are many functions that can be used with a string. Some of them are len(), "
   ]
  },
  {
   "cell_type": "markdown",
   "metadata": {},
   "source": [
    "input() is a function to take user input. The input function returns the input as a string. In order to perform any mathematical operation, you need to convert it to integer/float. "
   ]
  },
  {
   "cell_type": "markdown",
   "metadata": {},
   "source": [
    "6. Write the code to find roots of a quadratic equation and take values of a, b and c from the user."
   ]
  },
  {
   "cell_type": "markdown",
   "metadata": {},
   "source": [
    "7. Guess the output of the following code"
   ]
  },
  {
   "cell_type": "code",
   "execution_count": null,
   "metadata": {},
   "outputs": [],
   "source": [
    "a = '2.0'\n",
    "int(a)\n"
   ]
  },
  {
   "cell_type": "markdown",
   "metadata": {},
   "source": [
    "The error that you got above is a type of exception - Python's way of telling that it can not continue executing due to an error. "
   ]
  }
 ],
 "metadata": {
  "kernelspec": {
   "display_name": "Python 3",
   "language": "python",
   "name": "python3"
  },
  "language_info": {
   "codemirror_mode": {
    "name": "ipython",
    "version": 3
   },
   "file_extension": ".py",
   "mimetype": "text/x-python",
   "name": "python",
   "nbconvert_exporter": "python",
   "pygments_lexer": "ipython3",
   "version": "3.6.5"
  }
 },
 "nbformat": 4,
 "nbformat_minor": 2
}
