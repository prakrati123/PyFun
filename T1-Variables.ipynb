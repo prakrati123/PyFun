{
 "cells": [
  {
   "cell_type": "markdown",
   "metadata": {},
   "source": [
    "This notebook will cover the following topics:<br>\n",
    "1. [Variables](#var)<br>\n",
    "2. [Integers](#int)<br>\n",
    "3. [Float](#float)<br>\n",
    "4. [Complex](#comp)<br>\n",
    "5. [String](#str)<br>\n",
    "\n",
    "Under each topic you will learn the following:<br>\n",
    "1. What is it?<br>\n",
    "2. Common operations<br>\n",
    "3. Unique operations<br>\n",
    "4. Conversions to other data type<br>"
   ]
  },
  {
   "cell_type": "markdown",
   "metadata": {},
   "source": [
    "<a id=\"var\"></a>\n",
    "## What is a variable?"
   ]
  },
  {
   "cell_type": "markdown",
   "metadata": {},
   "source": [
    "You already saw variables in Fibonacci series. Let's learn more about them. Variables are reserved memory locations to store values."
   ]
  },
  {
   "cell_type": "code",
   "execution_count": null,
   "metadata": {},
   "outputs": [],
   "source": [
    "a = 5\n",
    "name = \"Shrirang\""
   ]
  },
  {
   "cell_type": "markdown",
   "metadata": {},
   "source": [
    "2 memory locations are reserved and have values \"5\" and \"Shrirang\" respectively. They are named \"a\" and \"name\"."
   ]
  },
  {
   "cell_type": "markdown",
   "metadata": {},
   "source": [
    "1. Edit above code to print the values of \"a\" and \"name\" variables."
   ]
  },
  {
   "cell_type": "markdown",
   "metadata": {},
   "source": [
    "<a id=\"int\"></a>\n",
    "## Integers"
   ]
  },
  {
   "cell_type": "markdown",
   "metadata": {},
   "source": [
    "Integers are numbers without decimal points. Example: 1, 2, 3 ..."
   ]
  },
  {
   "cell_type": "code",
   "execution_count": null,
   "metadata": {},
   "outputs": [],
   "source": [
    "x = 3\n",
    "print(x)\n",
    "type(x)"
   ]
  },
  {
   "cell_type": "markdown",
   "metadata": {},
   "source": [
    "The variable x is an integer. The type() function tells the type of the variable.\n",
    "Based on the data type of the variable, memory is allocated. "
   ]
  },
  {
   "cell_type": "markdown",
   "metadata": {},
   "source": [
    "### Common Operations on Integers\n",
    "You can perform all the basic mathematical operations on the integer. <br>\n",
    "If you want only the integer part on dividing, use the floor operator(//).<br>\n",
    "If you want to calculate the remainder, use the modulo operator(%). <br>\n",
    "If you want to calculate the power of numbers, use the exponential operator(**)."
   ]
  },
  {
   "cell_type": "markdown",
   "metadata": {},
   "source": [
    "2. Perform the following operations on the variable x and then print the result after every operation<br>\n",
    "i) Add 2 to it<br>\n",
    "ii) Subtract 4 from it<br>\n",
    "iii) Multiply 8<br>\n",
    "iv) Divide it by 3<br>\n",
    "v) Find only the integer part on dividing by 3 in iv)<br>\n",
    "vi) Find only the remainder part on dividing by 3 in iv)<br>\n",
    "vii) Raise x to the power of 3 and print<br>"
   ]
  },
  {
   "cell_type": "code",
   "execution_count": 4,
   "metadata": {},
   "outputs": [
    {
     "name": "stdout",
     "output_type": "stream",
     "text": [
      "5\n"
     ]
    },
    {
     "data": {
      "text/plain": [
       "int"
      ]
     },
     "execution_count": 4,
     "metadata": {},
     "output_type": "execute_result"
    }
   ],
   "source": [
    "x = 3\n",
    "x = x + 2\n",
    "#Your code goes here\n",
    "\n",
    "print(x)\n",
    "type(x)"
   ]
  },
  {
   "cell_type": "markdown",
   "metadata": {},
   "source": [
    "<a id=\"float\"></a>\n",
    "## Float"
   ]
  },
  {
   "cell_type": "markdown",
   "metadata": {},
   "source": [
    "The answer to 2 iv) that you get is in decimals. If you check the type of it, it is float. \n",
    "Numbers with a decimal point are called floating point numbers. Example: 1.1, 3.2 ..."
   ]
  },
  {
   "cell_type": "markdown",
   "metadata": {},
   "source": [
    "3. For the following code, perform the following operations:<br>\n",
    "i) Quotient of 17 divided by 3<br>\n",
    "ii) Remainder of 17 divided by 3<br>\n",
    "iii) 2 to the power of 10<br>\n",
    "iv) cube root of 8<br>"
   ]
  },
  {
   "cell_type": "code",
   "execution_count": null,
   "metadata": {},
   "outputs": [],
   "source": [
    "num = 17\n",
    "div = 3\n",
    "ans = #Your code goes here\n",
    "print(ans)"
   ]
  },
  {
   "cell_type": "markdown",
   "metadata": {},
   "source": [
    "### Common Operations on Float\n",
    "All operations that can be performed on integers, can be performed on floats as well. "
   ]
  },
  {
   "cell_type": "markdown",
   "metadata": {},
   "source": [
    "4. Create a code snippet to find roots of quadratic equation. Use discriminant."
   ]
  },
  {
   "cell_type": "code",
   "execution_count": null,
   "metadata": {},
   "outputs": [],
   "source": [
    "a = 1\n",
    "b = 2\n",
    "c = 1\n",
    "D = (b**2 - 4*a*c)**0.5\n",
    "#Your code goes here"
   ]
  },
  {
   "cell_type": "markdown",
   "metadata": {},
   "source": [
    "5. Predict the answer to -3//2 and then run it to check whether your prediction was correct."
   ]
  },
  {
   "cell_type": "markdown",
   "metadata": {},
   "source": [
    "### Conversions\n",
    "To convert floating point number to integer or vice versa, there are 2 functions: int() and float().\n",
    "5. In the following code, first find the area of the circle. Then convert both the radius and pi to int and then find the area. Calculate the error in percentage."
   ]
  },
  {
   "cell_type": "code",
   "execution_count": null,
   "metadata": {},
   "outputs": [],
   "source": [
    "diameter = 12\n",
    "pi = 3.141\n",
    "#Your code goes here"
   ]
  },
  {
   "cell_type": "markdown",
   "metadata": {},
   "source": [
    "<a id=\"comp\"></a>\n",
    "## Complex"
   ]
  },
  {
   "cell_type": "markdown",
   "metadata": {},
   "source": [
    "The numbers we saw till now were real numbers. Python also supports complex numbers with the imaginary part identified by the letter j or J."
   ]
  },
  {
   "cell_type": "code",
   "execution_count": null,
   "metadata": {},
   "outputs": [],
   "source": [
    "a = 2 + 5j\n",
    "print(a)\n",
    "type(a)"
   ]
  },
  {
   "cell_type": "markdown",
   "metadata": {},
   "source": [
    "You can also define a complex number using complex() function."
   ]
  },
  {
   "cell_type": "code",
   "execution_count": null,
   "metadata": {},
   "outputs": [],
   "source": [
    "b = complex(2,5)\n",
    "#Write code to print its type and print value of b"
   ]
  },
  {
   "cell_type": "markdown",
   "metadata": {},
   "source": [
    "### Common Operations on Complex numbers\n",
    "You can perform basic mathematical operations on complex numbers like addition, subtraction, multiplication and division. Modulo and floor operators are not valid for complex numbers.<br>\n",
    "7. Edit the following code to do the following operations:<br>\n",
    "i) Add 2 complex numbers 2+4i and 5+2i<br>\n",
    "ii) Subtract the result of part i) from 9+8i<br>\n",
    "iii) Multiply the numbers in part i)<br>\n",
    "iv) Divide the result of part iii) by result of part ii)<br>"
   ]
  },
  {
   "cell_type": "code",
   "execution_count": null,
   "metadata": {},
   "outputs": [],
   "source": [
    "a = 2 + 4j\n",
    "b = complex(5,2)\n",
    "#Your code goes here\n"
   ]
  },
  {
   "cell_type": "markdown",
   "metadata": {},
   "source": [
    "### Unique Operations on Complex numbers\n",
    "There are 2 attributes assosciated with a complex variable. Google and find how to print only the real and imaginary parts of a complex variable.\n",
    "8. Print the real and imaginary parts of the following complex variable"
   ]
  },
  {
   "cell_type": "code",
   "execution_count": null,
   "metadata": {},
   "outputs": [],
   "source": [
    "a = 4 + 2j\n",
    "#Your code goes here"
   ]
  },
  {
   "cell_type": "markdown",
   "metadata": {},
   "source": [
    "Other operations that can be done on complex numbers in Python are as follows:\n",
    "1. Conjugate: The conjugate of a complex number has the same real part but an imaginary part with an equal magnitude and an opposite sign. Use the conjugate() function to do it."
   ]
  },
  {
   "cell_type": "markdown",
   "metadata": {},
   "source": [
    "The magnitude of a complex number can be calculated with the following formula, where x and y are the real\n",
    "and imaginary parts of the number, respectively: √x² + y²\n",
    "9. Find the magnitude of the following complex number and print it "
   ]
  },
  {
   "cell_type": "code",
   "execution_count": null,
   "metadata": {},
   "outputs": [],
   "source": [
    "a = 4 + 5j\n",
    "#Your code goes here"
   ]
  },
  {
   "cell_type": "markdown",
   "metadata": {},
   "source": [
    "Another easier method to find the magnitude of a complex number is to use the abs() function.\n",
    "The abs() function returns the absolute value when called with a real number as its argument. For example, abs(5) and abs(-5) both return 5. However, for complex numbers, it returns the magnitude. \n",
    "10. Edit the code above and find the magnitude using abs() function and check if its the same as calculated using the formula."
   ]
  },
  {
   "cell_type": "markdown",
   "metadata": {},
   "source": [
    "<a id=\"str\"></a>\n",
    "## String"
   ]
  },
  {
   "cell_type": "markdown",
   "metadata": {},
   "source": [
    "String can be defined as a sequence of characters. To define a string, you can use either single or double quotes."
   ]
  },
  {
   "cell_type": "code",
   "execution_count": null,
   "metadata": {},
   "outputs": [],
   "source": [
    "name1 = \"Shrirang\"\n",
    "name2 = 'Shrirang'"
   ]
  },
  {
   "cell_type": "markdown",
   "metadata": {},
   "source": [
    "Both name1 and name2 are valid strings. \n",
    "11. Change above code to store your name and print Hi, your name."
   ]
  },
  {
   "cell_type": "code",
   "execution_count": null,
   "metadata": {},
   "outputs": [],
   "source": [
    "mystring = \"This is not my first string\"\n",
    "print(mystring)"
   ]
  },
  {
   "cell_type": "markdown",
   "metadata": {},
   "source": [
    "You can access each individual character of a string too using index numbers.\n",
    "12. Print the last character of mystring."
   ]
  },
  {
   "cell_type": "code",
   "execution_count": null,
   "metadata": {},
   "outputs": [],
   "source": [
    "print(mystring[0])\n",
    "#Your code goes here"
   ]
  },
  {
   "cell_type": "markdown",
   "metadata": {},
   "source": [
    "Another trick to access the last element of the string is to use negative index.\n",
    "13. Print the first \"s\" encountered from last."
   ]
  },
  {
   "cell_type": "code",
   "execution_count": null,
   "metadata": {},
   "outputs": [],
   "source": [
    "print(mystring[-1])\n",
    "#Your code goes here"
   ]
  },
  {
   "cell_type": "code",
   "execution_count": 5,
   "metadata": {},
   "outputs": [
    {
     "name": "stdout",
     "output_type": "stream",
     "text": [
      "PythonPythonPythonPython\n"
     ]
    }
   ],
   "source": [
    "#Guess the output of the following code\n",
    "name = \"Python\"\n",
    "print(name * 4)\n"
   ]
  },
  {
   "cell_type": "markdown",
   "metadata": {},
   "source": [
    "### Common Operations on Strings\n",
    "There are three operations (+, *, [ ]) that work with all sequences (including strings).<br>\n",
    "+ : Is the concatenation operator<br>\n",
    "* : between strings and numbers (number * string or string * number) creates a new string that is a number of repetitions of the input string.<br>\n",
    "[ ] : You already saw the index operator. It can also be used to slice the string by specifying start and end (string[start:end])<br>\n",
    "14. Complete the following code to accomplish the specified tasks:<br>\n",
    "i) Print a string made of the first 2 and the last 2 chars from string \"a\".<br>\n",
    "ii) Get and print a single string from two given strings(a and b), separated by a space and swap the first two characters of each string. Example: Sample String : 'abc', 'xyz'  Expected Result : 'xyc abz'<br>\n",
    "iii) Use the string replication operator to print \"Help\" 4 times <br>"
   ]
  },
  {
   "cell_type": "code",
   "execution_count": null,
   "metadata": {},
   "outputs": [],
   "source": [
    "a = \"Hello\"\n",
    "b = \"Bye\"\n",
    "c = \"Help\"\n",
    "#Your code goes here"
   ]
  },
  {
   "cell_type": "code",
   "execution_count": null,
   "metadata": {},
   "outputs": [],
   "source": [
    "#15. Predict the output of the following code:\n",
    "a = \"Shrirang\"\n",
    "b = \"Karandikar\"\n",
    "print(a * b)\n"
   ]
  },
  {
   "cell_type": "code",
   "execution_count": null,
   "metadata": {},
   "outputs": [],
   "source": [
    "#16. Predict the output of the following code:\n",
    "a = \"Python\"\n",
    "print(a * 5.0)"
   ]
  },
  {
   "cell_type": "markdown",
   "metadata": {},
   "source": [
    "### Comparison Operations\n",
    "The standard comparisons (<, <=, >, >=, ==, !=) apply to strings. These comparisons use the standard character-by-character comparison rules for ASCII or Unicode.\n",
    "\n",
    "There are two additional comparisons: in and not in . These check to see if a single character string occurs in a longer string. The in operator returns a True when the character is found, False if the character is not found. The not in operator returns True if the character is not found.\n",
    "17. Find whether string a is found in string b. Print \"Yay! I am found\" - String a with the quotes if its found. "
   ]
  },
  {
   "cell_type": "code",
   "execution_count": null,
   "metadata": {},
   "outputs": [],
   "source": [
    "a = \"the\"\n",
    "b = \"cathedral\"\n",
    "#Your code goes here"
   ]
  },
  {
   "cell_type": "markdown",
   "metadata": {},
   "source": [
    "You might have faced the problem of how to print the double quotes in a string. If you want to inform the compiler to simply print whatever you type and not try to compile it, just add an escape sequence before it. Also remember, you must use one escape sequence for one character. \"\\\" is the escape sequence that can be used."
   ]
  },
  {
   "cell_type": "code",
   "execution_count": null,
   "metadata": {},
   "outputs": [],
   "source": [
    "print(\"\\\"Hi\\\"\")"
   ]
  },
  {
   "cell_type": "markdown",
   "metadata": {},
   "source": [
    "### Built-in String Functions\n",
    "There are many functions that can be used with a string. Some of them are:<br>\n",
    "1. *len*(string) :  Returns length of the string<br>\n",
    "2. string_name.*find*(subString): Returns position of the substring in the main string<br>\n",
    "3. string_name.*lower*(): Converts all characters in the string to lowercase<br>\n",
    "4. string_name.*upper*(): Converts all characters in the string to uppercase<br>\n",
    "5. string_name.*islower*() and string_name.*isupper*(): Returns True or False depending on whether all characters are lower or upper<br>\n",
    "6. string_name.*replace*(old_string, new_string): Replaces the old string with new string in string<br>\n",
    "7. string_name.*split*(character,integer): Splits the string into different parts on the character specified<br>"
   ]
  },
  {
   "cell_type": "markdown",
   "metadata": {},
   "source": [
    "18. Complete the code below to add 'ing' at the end of a given string (length should be at least 3). If the given string already ends with 'ing' then add 'ly' instead. If the string length of the given string is less than 3, leave it unchanged."
   ]
  },
  {
   "cell_type": "code",
   "execution_count": null,
   "metadata": {},
   "outputs": [],
   "source": [
    "my_string = \"Hold\"\n",
    "if(len(my_string)>3):\n",
    "    if(my_string[-3:]==\"ing\"):\n",
    "#Your code goes here\n",
    "    \n"
   ]
  },
  {
   "cell_type": "markdown",
   "metadata": {},
   "source": [
    "### Conversions\n",
    "str() function is used to convert any data type to string."
   ]
  },
  {
   "cell_type": "markdown",
   "metadata": {},
   "source": [
    "*input*() is a function to take user input. The input function returns the input as a string. In order to perform any mathematical operation, you need to convert it to integer/float. "
   ]
  },
  {
   "cell_type": "markdown",
   "metadata": {},
   "source": [
    "19. Write the code to find roots of a quadratic equation and take values of a, b and c from the user."
   ]
  },
  {
   "cell_type": "code",
   "execution_count": null,
   "metadata": {},
   "outputs": [],
   "source": [
    "a = input(\"Enter value of a\")\n",
    "b = input(\"Enter value of b\")\n",
    "#Your code goes here"
   ]
  },
  {
   "cell_type": "markdown",
   "metadata": {},
   "source": [
    "20. Translate a number into the English phrase.\n",
    "\n",
    "This example algorithm fragment is only to get you started. This shows how to pick off the digits from the right end of a number and assemble a resulting string from the left end of the string.\n",
    "\n",
    "Note that the right-most two digits have special names, requiring some additional cases above and beyond the simplistic loop shown below. For example, 291 is \"two hundred ninety one\", where 29 is \"twenty nine\". The word for \"2\" changes, depending on the context.\n",
    "\n",
    "As a practical matter, you should analyze the number by taking off three digits at a time, the expression (number % 1000) does this. You would then format the three digit number with words like \"million\", \"thousand\", etc.\n"
   ]
  },
  {
   "cell_type": "code",
   "execution_count": null,
   "metadata": {},
   "outputs": [],
   "source": [
    "num = input(\"Enter a number\")\n",
    "#Your code goes here"
   ]
  },
  {
   "cell_type": "code",
   "execution_count": null,
   "metadata": {},
   "outputs": [],
   "source": [
    "# 21. Predict the output of the following code\n",
    "greeting = \"Hello World\"\n",
    "greeting[0] = \"J\"\n",
    "print(greeting)"
   ]
  },
  {
   "cell_type": "markdown",
   "metadata": {},
   "source": [
    "The error that you got is the runtime error. It is Python's way of telling you that it can not do what you asked for.<br>\n",
    "Strings are immutable, which means you can’t change an existing string. The best you can do is create a new string that is a variation on the original. \n",
    "22. Edit above code to print \"Jello World\"."
   ]
  }
 ],
 "metadata": {
  "kernelspec": {
   "display_name": "Python 3",
   "language": "python",
   "name": "python3"
  },
  "language_info": {
   "codemirror_mode": {
    "name": "ipython",
    "version": 3
   },
   "file_extension": ".py",
   "mimetype": "text/x-python",
   "name": "python",
   "nbconvert_exporter": "python",
   "pygments_lexer": "ipython3",
   "version": "3.6.5"
  }
 },
 "nbformat": 4,
 "nbformat_minor": 2
}
