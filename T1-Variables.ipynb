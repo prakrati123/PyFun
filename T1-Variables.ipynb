{
 "cells": [
  {
   "cell_type": "markdown",
   "metadata": {},
   "source": [
    "Variables are reserved memory locations to store values."
   ]
  },
  {
   "cell_type": "code",
   "execution_count": null,
   "metadata": {},
   "outputs": [],
   "source": [
    "x = 3\n",
    "print(x)\n",
    "type(x)"
   ]
  },
  {
   "cell_type": "markdown",
   "metadata": {},
   "source": [
    "The variable x is an integer. The type() function tells the type of the variable.\n",
    "Based on the data type of the variable, memory is allocated. "
   ]
  },
  {
   "cell_type": "markdown",
   "metadata": {},
   "source": [
    "1. Perform the following operations on the variable x and then print the final result\n",
    "i) Add 2 to it\n",
    "ii) Subtract 4 from it\n",
    "iii) Multiply 8\n",
    "iv) Divide it by 3"
   ]
  },
  {
   "cell_type": "code",
   "execution_count": 4,
   "metadata": {},
   "outputs": [
    {
     "name": "stdout",
     "output_type": "stream",
     "text": [
      "5\n"
     ]
    },
    {
     "data": {
      "text/plain": [
       "int"
      ]
     },
     "execution_count": 4,
     "metadata": {},
     "output_type": "execute_result"
    }
   ],
   "source": [
    "x = 3\n",
    "x = x + 2\n",
    "#Your code goes here\n",
    "\n",
    "print(x)\n",
    "type(x)"
   ]
  },
  {
   "cell_type": "markdown",
   "metadata": {},
   "source": [
    "The answer that you get is in decimals. If you check the type of it, it is float. Numbers with a decimal point are called floating point numbers"
   ]
  },
  {
   "cell_type": "markdown",
   "metadata": {},
   "source": [
    "If you want only the integer part on dividing, use the floor operator(//)"
   ]
  },
  {
   "cell_type": "markdown",
   "metadata": {},
   "source": [
    "2. For the following code, perform the following operations:\n",
    "i) Quotient of 17 divided by 3\n",
    "ii) Remainder of 17 divided by 3\n",
    "iii) 2 to the power of 10\n",
    "iv) cube root of 8"
   ]
  },
  {
   "cell_type": "code",
   "execution_count": null,
   "metadata": {},
   "outputs": [],
   "source": [
    "num = 17\n",
    "div = 3\n",
    "ans = #Your code goes here\n",
    "print(ans)"
   ]
  },
  {
   "cell_type": "markdown",
   "metadata": {},
   "source": [
    "3. Create a code snippet to find roots of quadratic equation. Use discriminant."
   ]
  },
  {
   "cell_type": "code",
   "execution_count": null,
   "metadata": {},
   "outputs": [],
   "source": [
    "a = 1\n",
    "b = 2\n",
    "c = 1\n",
    "D = (b**2 - 4*a*c)**0.5\n",
    "#Your code goes here"
   ]
  },
  {
   "cell_type": "raw",
   "metadata": {},
   "source": [
    "To convert floating point number to integer or vice versa, there are 2 functions: int() and float().\n",
    "4. In the following code, first find the area of the circle. Then convert both the radius and pi to int and then find the area. Calculate the error in percentage."
   ]
  },
  {
   "cell_type": "code",
   "execution_count": null,
   "metadata": {},
   "outputs": [],
   "source": [
    "diameter = 12\n",
    "pi = 3.141\n",
    "#Your code goes here"
   ]
  },
  {
   "cell_type": "code",
   "execution_count": 5,
   "metadata": {},
   "outputs": [
    {
     "name": "stdout",
     "output_type": "stream",
     "text": [
      "PythonPythonPythonPython\n"
     ]
    }
   ],
   "source": [
    "#Guess the output of the following code\n",
    "name = \"Python\"\n",
    "print(name * 4)\n"
   ]
  },
  {
   "cell_type": "markdown",
   "metadata": {},
   "source": [
    "Another type of variable is the string. A string is any set of characters between quotes."
   ]
  },
  {
   "cell_type": "code",
   "execution_count": null,
   "metadata": {},
   "outputs": [],
   "source": [
    "name1 = \"Shrirang\"\n",
    "name2 = 'Shrirang'"
   ]
  },
  {
   "cell_type": "markdown",
   "metadata": {},
   "source": [
    "Both name1 and name2 are valid strings. \n",
    "5. Change above code to store your name and print Hi, your name."
   ]
  },
  {
   "cell_type": "markdown",
   "metadata": {},
   "source": [
    "input() is a function to take user input. The input function returns the input as a string. In order to perform any mathematical operation, you need to convert it to integer/float. "
   ]
  },
  {
   "cell_type": "markdown",
   "metadata": {},
   "source": [
    "6. Write the code to find roots of a quadratic equation and take values of a, b and c from the user."
   ]
  },
  {
   "cell_type": "markdown",
   "metadata": {},
   "source": [
    "7. Guess the output of the following code"
   ]
  },
  {
   "cell_type": "code",
   "execution_count": null,
   "metadata": {},
   "outputs": [],
   "source": [
    "a = '2.0'\n",
    "int(a)\n"
   ]
  },
  {
   "cell_type": "markdown",
   "metadata": {},
   "source": [
    "The error that you got above is a type of exception - Python's way of telling that it can not continue executing due to an error. "
   ]
  }
 ],
 "metadata": {
  "kernelspec": {
   "display_name": "Python 3",
   "language": "python",
   "name": "python3"
  },
  "language_info": {
   "codemirror_mode": {
    "name": "ipython",
    "version": 3
   },
   "file_extension": ".py",
   "mimetype": "text/x-python",
   "name": "python",
   "nbconvert_exporter": "python",
   "pygments_lexer": "ipython3",
   "version": "3.6.5"
  }
 },
 "nbformat": 4,
 "nbformat_minor": 2
}
