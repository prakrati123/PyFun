{
 "cells": [
  {
   "cell_type": "markdown",
   "metadata": {},
   "source": [
    "Modules in python are .py files having a set of functions implemented. import keyword is used to import the module so that its functions can be used   "
   ]
  },
  {
   "cell_type": "markdown",
   "metadata": {},
   "source": [
    "import random\n",
    "print(random.randrange(0,10))"
   ]
  },
  {
   "cell_type": "markdown",
   "metadata": {},
   "source": [
    "Modify above code to print a random floating point number between 1 to 10.\n",
    "Hint: Check documentation of random function"
   ]
  },
  {
   "cell_type": "markdown",
   "metadata": {},
   "source": [
    "We can make our own custom functions also. Functions start with a header introduced by the def keyword. The indented block of code following the : is run when the function is called."
   ]
  },
  {
   "cell_type": "code",
   "execution_count": null,
   "metadata": {},
   "outputs": [],
   "source": [
    "def currentYear():\n",
    "    print(\"2018\")\n",
    "\n",
    "currentYear()"
   ]
  },
  {
   "cell_type": "markdown",
   "metadata": {},
   "source": [
    "currentYear() is a user-defined function which has no arguments since it has empty parantheses."
   ]
  },
  {
   "cell_type": "markdown",
   "metadata": {},
   "source": [
    "The product function f below has 2 arguments x and y."
   ]
  },
  {
   "cell_type": "code",
   "execution_count": null,
   "metadata": {},
   "outputs": [],
   "source": [
    "def f(x,y):\n",
    "    print(\"Product is \" + x*y)\n",
    "\n",
    "f(3,4)"
   ]
  },
  {
   "cell_type": "markdown",
   "metadata": {},
   "source": [
    "Add 2 function calls to find product of 5 and 6 and 7 and 8."
   ]
  },
  {
   "cell_type": "markdown",
   "metadata": {},
   "source": [
    "Functions can also return value. return is the keyword used with functions to return a value. When Python encounters a return statement, it exits the function immediately, and passes the value on the right hand side to the calling context.\n",
    "Edit the code below to call function f and store result in a variable and print it"
   ]
  },
  {
   "cell_type": "code",
   "execution_count": null,
   "metadata": {},
   "outputs": [],
   "source": [
    "def f(x,y):\n",
    "    return x*y\n",
    "\n",
    "#Call function f and store result in a variable and print it"
   ]
  },
  {
   "cell_type": "code",
   "execution_count": null,
   "metadata": {},
   "outputs": [],
   "source": [
    "def f(x,y):\n",
    "#Add code to find sum of x and y and return it    \n",
    "\n",
    "#Add code to print 12 without storing in any other variable\n",
    "print(f())\n"
   ]
  },
  {
   "cell_type": "markdown",
   "metadata": {},
   "source": [
    "Run help on the user-defined function f."
   ]
  },
  {
   "cell_type": "markdown",
   "metadata": {},
   "source": [
    "In user-defined functions, you can provide description using docstrings."
   ]
  },
  {
   "cell_type": "code",
   "execution_count": null,
   "metadata": {},
   "outputs": [],
   "source": [
    "def currentYear():\n",
    "    \"\"\"Prints the current year\n",
    "    \"\"\"\n",
    "    print(\"2018\")"
   ]
  },
  {
   "cell_type": "markdown",
   "metadata": {},
   "source": [
    "Write a code snippet that asks the user how many Fibonnaci numbers to generate and then generates them. Make sure to ask the user to enter the number of numbers in the sequence to generate.\n",
    "(Hint: The Fibonnaci seqence is a sequence of numbers where the next number in the sequence is the sum of the previous two numbers in the sequence. The sequence looks like this: 1, 1, 2, 3, 5, 8, 13, …)"
   ]
  },
  {
   "cell_type": "code",
   "execution_count": null,
   "metadata": {},
   "outputs": [],
   "source": []
  },
  {
   "cell_type": "markdown",
   "metadata": {},
   "source": [
    "Remember the problem we solved in variables exercise. \n",
    "\n",
    "Alisha, Bindu and Kavya have agreed to pool their chocolates and split it evenly among themselves. For the sake of their friendship, any candies left over will be melted to form chocolate sauce. For example, if they collectively bring home 91 candies, they'll take 30 each and 1 will be used to form sauce. 10 chocolates make 0.5 litre of chocolate sauce\n",
    "Write an arithmetic expression below to calculate how many chocolates will each of them get and how many litres of chocolate sauce will be made.\n",
    "\n",
    "Write a function which takes number of candies of each of the friends as input and returns the number of chocolates they will get and number of litres of chocolate sauce made."
   ]
  },
  {
   "cell_type": "code",
   "execution_count": null,
   "metadata": {},
   "outputs": [],
   "source": []
  },
  {
   "cell_type": "markdown",
   "metadata": {},
   "source": [
    "We have two monkeys, a and b, and the parameters a_smile and b_smile indicate if each is smiling. We are in trouble if they are both smiling or if neither of them is smiling. Return True if we are in trouble.\n",
    "\n",
    "\n",
    "monkey_trouble(True, True) → True\n",
    "\n",
    "monkey_trouble(False, False) → True\n",
    "\n",
    "monkey_trouble(True, False) → False\n"
   ]
  }
 ],
 "metadata": {
  "kernelspec": {
   "display_name": "Python 3",
   "language": "python",
   "name": "python3"
  },
  "language_info": {
   "codemirror_mode": {
    "name": "ipython",
    "version": 3
   },
   "file_extension": ".py",
   "mimetype": "text/x-python",
   "name": "python",
   "nbconvert_exporter": "python",
   "pygments_lexer": "ipython3",
   "version": "3.6.5"
  }
 },
 "nbformat": 4,
 "nbformat_minor": 2
}
