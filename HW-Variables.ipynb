{
 "cells": [
  {
   "cell_type": "markdown",
   "metadata": {},
   "source": [
    "1. Complete the code below:"
   ]
  },
  {
   "cell_type": "code",
   "execution_count": null,
   "metadata": {},
   "outputs": [],
   "source": [
    "pi = 3.14159 \n",
    "diameter = 3\n",
    "\n",
    "# Create a variable called 'radius' equal to half the diameter\n",
    "\n",
    "# Create a variable called 'area', using the formula for the area of a circle: pi times the radius squared\n"
   ]
  },
  {
   "cell_type": "markdown",
   "metadata": {},
   "source": [
    "2. Add code below to swap two variables a and b using another temporary variable c"
   ]
  },
  {
   "cell_type": "code",
   "execution_count": null,
   "metadata": {},
   "outputs": [],
   "source": [
    "a = 5\n",
    "b = 7\n",
    "print(\"a is \" + a)\n",
    "print(\"b is \" + b)\n",
    "\n",
    "#Create a temporary variable c and swap values of a and b\n",
    "\n",
    "\n",
    "#Print the new values of a and b\n"
   ]
  },
  {
   "cell_type": "markdown",
   "metadata": {},
   "source": [
    "3. Add parantheses to the following expression to evaluate to 1"
   ]
  },
  {
   "cell_type": "code",
   "execution_count": null,
   "metadata": {},
   "outputs": [],
   "source": [
    "5 - 3 // 2"
   ]
  },
  {
   "cell_type": "markdown",
   "metadata": {},
   "source": [
    "4. Add parantheses to the following expression to evaluate to 0"
   ]
  },
  {
   "cell_type": "code",
   "execution_count": null,
   "metadata": {},
   "outputs": [],
   "source": [
    "8 - 3 * 2 - 1 + 1"
   ]
  },
  {
   "cell_type": "markdown",
   "metadata": {},
   "source": [
    "5. Alisha, Bindu and Kavya have agreed to pool their chocolates and split it evenly among themselves. For the sake of their friendship, any candies left over will be melted to form chocolate sauce. For example, if they collectively bring home 91 candies, they'll take 30 each and 1 will be used to form sauce. 10 chocolates make 0.5 litre of chocolate sauce\n",
    "\n",
    "Write an arithmetic expression below to calculate how many chocolates will each of them get and how many litres of chocolate sauce will be made."
   ]
  },
  {
   "cell_type": "code",
   "execution_count": null,
   "metadata": {},
   "outputs": [],
   "source": [
    "alisha = 130\n",
    "bindu = 225\n",
    "kavya = 139\n",
    "\n",
    "#Your code goes here.\n"
   ]
  },
  {
   "cell_type": "markdown",
   "metadata": {},
   "source": [
    "Modify above code to find how many chocolates should each one of them contribute in order to make 10 litres of chocolate sauce"
   ]
  },
  {
   "cell_type": "markdown",
   "metadata": {},
   "source": [
    "6. Bharat earns Rs. 30.5 as his daily wage. His daily expense is Rs. 20. He wants to buy a mobile phone costing Rs. 750. For how many days he will have to work before he can actually buy the phone. "
   ]
  },
  {
   "cell_type": "code",
   "execution_count": null,
   "metadata": {},
   "outputs": [],
   "source": [
    "dailyWage = 30.5\n",
    "dailyExpense = 20\n",
    "\n",
    "#Your code goes here"
   ]
  },
  {
   "cell_type": "markdown",
   "metadata": {},
   "source": [
    "7. Write a code to take 2 numbers from the user and find whether the first number is a factor of the second number.\n",
    "Hint: Use if statement to check "
   ]
  }
 ],
 "metadata": {
  "kernelspec": {
   "display_name": "Python 3",
   "language": "python",
   "name": "python3"
  },
  "language_info": {
   "codemirror_mode": {
    "name": "ipython",
    "version": 3
   },
   "file_extension": ".py",
   "mimetype": "text/x-python",
   "name": "python",
   "nbconvert_exporter": "python",
   "pygments_lexer": "ipython3",
   "version": "3.6.5"
  }
 },
 "nbformat": 4,
 "nbformat_minor": 2
}
